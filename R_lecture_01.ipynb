{
 "cells": [
  {
   "cell_type": "markdown",
   "metadata": {},
   "source": [
    "# Machine learning lecture\n",
    "This notebook will guide you through the basics of programming with R"
   ]
  },
  {
   "cell_type": "markdown",
   "metadata": {},
   "source": [
    "## R Basics\n",
    "R is a free software environment and a language for statistical computing and graphics. The system is highly extensible and therefore can be customized to your needs using packages developed by people from all over the globe. One of the main advantages is its large active community which helps in finding answers to problems quickly: https://stackoverflow.com/questions/tagged/r\n",
    "\n",
    "#### 1) Math, data types, operators\n",
    "So, let's start programming!\n",
    "In R, you can perform basic arithmetic operations and functions:"
   ]
  },
  {
   "cell_type": "code",
   "execution_count": null,
   "metadata": {},
   "outputs": [],
   "source": [
    "1 + 1\n",
    "7 / 2\n",
    "log(10)\n",
    "abs(-3)\n",
    "sqrt(4)"
   ]
  },
  {
   "cell_type": "markdown",
   "metadata": {},
   "source": [
    "You can assign values to variables and do calculations with those objects:"
   ]
  },
  {
   "cell_type": "code",
   "execution_count": null,
   "metadata": {},
   "outputs": [],
   "source": [
    "a <- 49\n",
    "print(a)\n",
    "a * (2 + 3.2)"
   ]
  },
  {
   "cell_type": "markdown",
   "metadata": {},
   "source": [
    "Besides numerical values, you can also use character and logical values:"
   ]
  },
  {
   "cell_type": "code",
   "execution_count": null,
   "metadata": {},
   "outputs": [],
   "source": [
    "b <- \"Riesenrad\"\n",
    "city <- TRUE # this is a logical variable (boolean)\n",
    "c <- 3.77"
   ]
  },
  {
   "cell_type": "markdown",
   "metadata": {},
   "source": [
    "Logical values can be used for queries with logical operators:"
   ]
  },
  {
   "cell_type": "code",
   "execution_count": null,
   "metadata": {},
   "outputs": [],
   "source": [
    "a == 49\n",
    "a > 50"
   ]
  },
  {
   "cell_type": "markdown",
   "metadata": {},
   "source": [
    "Of course we can also convert between data types:"
   ]
  },
  {
   "cell_type": "code",
   "execution_count": null,
   "metadata": {},
   "outputs": [],
   "source": [
    "as.character(a)\n",
    "as.integer(c)"
   ]
  },
  {
   "cell_type": "markdown",
   "metadata": {},
   "source": [
    "#### 2) Vectors\n",
    "You can combine multiple values of a type in an object: a vector (1D):"
   ]
  },
  {
   "cell_type": "code",
   "execution_count": null,
   "metadata": {},
   "outputs": [],
   "source": [
    "temperatures <- c(6, 6.4, 8.1, 7, 10.4, 22, 1, 4.5, 6.7, 1, 0, 5.3)\n",
    "trees <- c(\"birch\", \"oak\", \"pine\", \"larch\")"
   ]
  },
  {
   "cell_type": "markdown",
   "metadata": {},
   "source": [
    "and you can apply functions to vectors:"
   ]
  },
  {
   "cell_type": "code",
   "execution_count": null,
   "metadata": {},
   "outputs": [],
   "source": [
    "sort(temperatures)"
   ]
  },
  {
   "cell_type": "markdown",
   "metadata": {},
   "source": [
    "You can also generate vectors by repeating elements:"
   ]
  },
  {
   "cell_type": "code",
   "execution_count": null,
   "metadata": {},
   "outputs": [],
   "source": [
    "ice <- rep(a, times = 10)\n",
    "ice2 <- rep(temperatures, times = 3)"
   ]
  },
  {
   "cell_type": "markdown",
   "metadata": {},
   "source": [
    "Or, you can generate sequence vectors:"
   ]
  },
  {
   "cell_type": "code",
   "execution_count": null,
   "metadata": {
    "scrolled": true
   },
   "outputs": [],
   "source": [
    "a <- 1:30 # this is a short form for ...\n",
    "a <- seq(from = 1, to = 30, by = 1)\n",
    "b <- seq(from = 1, to = 40, by = 0.3)\n",
    "\n",
    "# alternatively you can specify a length\n",
    "c <- seq(1, 30, length = 100)\n",
    "# you can leave argument names (\"from\") out to type less (but\n",
    "# stick to the order)\n",
    "print(a)"
   ]
  },
  {
   "cell_type": "markdown",
   "metadata": {},
   "source": [
    "#### 3) Matrices\n",
    "You can also combine multiple values of one type to a 2D matrix:"
   ]
  },
  {
   "cell_type": "code",
   "execution_count": null,
   "metadata": {
    "scrolled": true
   },
   "outputs": [],
   "source": [
    "matrix(data = 5, nrow = 2, ncol = 2)\n",
    "# to find out more about a function, you can use the help function\n",
    "?matrix"
   ]
  },
  {
   "cell_type": "markdown",
   "metadata": {},
   "source": [
    "As you can learn from the documentation, we could also use a vector to fill values into a matrix."
   ]
  },
  {
   "cell_type": "code",
   "execution_count": null,
   "metadata": {},
   "outputs": [],
   "source": [
    "mat <- matrix(temperatures, 4, 3, byrow = T)\n",
    "print(temperatures)\n",
    "print(mat)"
   ]
  },
  {
   "cell_type": "markdown",
   "metadata": {},
   "source": [
    "There are different commands to get infos about object properties like dimensions or type:"
   ]
  },
  {
   "cell_type": "code",
   "execution_count": null,
   "metadata": {},
   "outputs": [],
   "source": [
    "dim(mat)\n",
    "str(mat)\n",
    "class(mat)"
   ]
  },
  {
   "cell_type": "markdown",
   "metadata": {},
   "source": [
    "There is also a datatype in R for matrices with n dimension. It's called array and works in a similar way. Furthermore, R provides methods for matrix computation (e.g. product of two matrices). But that goes beyond the scope of this lecture.\n",
    "\n",
    "#### 4) Indexing\n",
    "But how do we access specific data? In R, we use indexing. This is one of the most important features and is needed in almost any application.\\\n",
    "Get the 4th object in the \"temperatures\" vector:"
   ]
  },
  {
   "cell_type": "code",
   "execution_count": null,
   "metadata": {},
   "outputs": [],
   "source": [
    "temperatures[4]\n",
    "# Get the 4th to 8th object\n",
    "temperatures[4:8]\n",
    "# Note the use of the sequence operator"
   ]
  },
  {
   "cell_type": "markdown",
   "metadata": {},
   "source": [
    "How does that apply to matrices? Get the element in the 2nd row and 3rd column:"
   ]
  },
  {
   "cell_type": "code",
   "execution_count": null,
   "metadata": {},
   "outputs": [],
   "source": [
    "mat[2, 3] # first number is always the row index"
   ]
  },
  {
   "cell_type": "markdown",
   "metadata": {},
   "source": [
    "How to select the whole first column?"
   ]
  },
  {
   "cell_type": "code",
   "execution_count": null,
   "metadata": {},
   "outputs": [],
   "source": [
    "mat[, 1] # just leave the row number out"
   ]
  },
  {
   "cell_type": "markdown",
   "metadata": {},
   "source": [
    "How to index rows 1 & 2 in the 2nd & 3rd column?"
   ]
  },
  {
   "cell_type": "code",
   "execution_count": null,
   "metadata": {},
   "outputs": [],
   "source": [
    "mat2 <- mat[1:2, 2:3]\n",
    "# Here you produce a new matrix from the subset!"
   ]
  },
  {
   "cell_type": "markdown",
   "metadata": {},
   "source": [
    "How to index row 1 in the 1st & 3rd column?"
   ]
  },
  {
   "cell_type": "code",
   "execution_count": null,
   "metadata": {},
   "outputs": [],
   "source": [
    "mat[1, c(1, 3)]"
   ]
  },
  {
   "cell_type": "markdown",
   "metadata": {},
   "source": [
    "#### 5) data frame\n",
    "A matrix can only have one data type (e.g. numeric). But there is a method to deal with mixed data. The data frame!"
   ]
  },
  {
   "cell_type": "code",
   "execution_count": null,
   "metadata": {},
   "outputs": [],
   "source": [
    "data.frame(trees, \"bhd\" = c(5, 6, 4, 2.2),\n",
    "           \"healthy\" = c(T, T, F, T))"
   ]
  },
  {
   "cell_type": "markdown",
   "metadata": {},
   "source": [
    "You can also convert a matrix into a data frame and assign column names with a character vector:"
   ]
  },
  {
   "cell_type": "code",
   "execution_count": null,
   "metadata": {},
   "outputs": [],
   "source": [
    "df_mat <- data.frame(mat)\n",
    "names(df_mat) <- c(\"temp\", \"time\", \"lemon_price\")\n",
    "\n",
    "print(df_mat)"
   ]
  },
  {
   "cell_type": "markdown",
   "metadata": {},
   "source": [
    "Different objects have different functions. E.g., we can apply `ncol()` or `nrow()` to data frames and matrices:"
   ]
  },
  {
   "cell_type": "code",
   "execution_count": null,
   "metadata": {},
   "outputs": [],
   "source": [
    "ncol(df_mat)"
   ]
  },
  {
   "cell_type": "markdown",
   "metadata": {},
   "source": [
    "You can also extend data frames. You can use `cbind()` to add a column:"
   ]
  },
  {
   "cell_type": "code",
   "execution_count": null,
   "metadata": {},
   "outputs": [],
   "source": [
    "new_col <- c(\"berlin\", \"braunschweig\", \"basel\", \"budapest\")\n",
    "df_mat <- cbind(df_mat, \"city\" = new_col, stringsAsFactors = F)\n",
    "# here we overwrite the old df_mat with the new version\n",
    "df_mat"
   ]
  },
  {
   "cell_type": "markdown",
   "metadata": {},
   "source": [
    "In the same manner, we can add rows with `rbind()`:"
   ]
  },
  {
   "cell_type": "code",
   "execution_count": null,
   "metadata": {},
   "outputs": [],
   "source": [
    "new_row <- c(3, 8, 45, \"brügge\")\n",
    "new_row"
   ]
  },
  {
   "cell_type": "markdown",
   "metadata": {},
   "source": [
    "Argh! We cannot have mixed data types in a vector, so R converted all values to strings. Let's use a workaround:"
   ]
  },
  {
   "cell_type": "code",
   "execution_count": null,
   "metadata": {},
   "outputs": [],
   "source": [
    "new_row <- c(3, 8, 45, NA) # NA is a missing value\n",
    "new_row"
   ]
  },
  {
   "cell_type": "markdown",
   "metadata": {},
   "source": [
    "Now we can add the row to `df_mat` and insert the city name afterwards:"
   ]
  },
  {
   "cell_type": "code",
   "execution_count": null,
   "metadata": {},
   "outputs": [],
   "source": [
    "df_mat <- rbind(df_mat, new_row)\n",
    "df_mat[5, 4] <- \"brügge\"\n",
    "print(df_mat)"
   ]
  },
  {
   "cell_type": "markdown",
   "metadata": {},
   "source": [
    "Now everything is at the right place! Alternatively, you can edit tables excel-like with:"
   ]
  },
  {
   "cell_type": "code",
   "execution_count": null,
   "metadata": {},
   "outputs": [],
   "source": [
    "fix(df_mat)\n",
    "# this function can be unreliable -> use is not recommended"
   ]
  },
  {
   "cell_type": "markdown",
   "metadata": {},
   "source": [
    "When an object has column/row names, they can be used for indexing. E.g. to get entries 1-3 of the city column:"
   ]
  },
  {
   "cell_type": "code",
   "execution_count": null,
   "metadata": {},
   "outputs": [],
   "source": [
    "df_mat[1:3, \"city\"]"
   ]
  },
  {
   "cell_type": "markdown",
   "metadata": {},
   "source": [
    "Retrieve whole columns even faster using the `$` operator:"
   ]
  },
  {
   "cell_type": "code",
   "execution_count": null,
   "metadata": {},
   "outputs": [],
   "source": [
    "df_mat$city"
   ]
  },
  {
   "cell_type": "markdown",
   "metadata": {},
   "source": [
    "#### 6) List & factor\n",
    "There are two \"special\" object types: A list is a collection of objects (can be different objects). You could for example make a list of different vectors you created so far:"
   ]
  },
  {
   "cell_type": "code",
   "execution_count": null,
   "metadata": {},
   "outputs": [],
   "source": [
    "l <- list(\"city\" = new_col, \"numbers\" = ice,\n",
    "          temp = temperatures, trees)\n",
    "# note how you can define names for lists, even without quot. marks\n",
    "l"
   ]
  },
  {
   "cell_type": "markdown",
   "metadata": {},
   "source": [
    "Indexing works different for lists:"
   ]
  },
  {
   "cell_type": "code",
   "execution_count": null,
   "metadata": {},
   "outputs": [],
   "source": [
    "l[[1]]\n",
    "# you can also use $-indexing with lists!\n",
    "l$city"
   ]
  },
  {
   "cell_type": "markdown",
   "metadata": {},
   "source": [
    "You can also index elements within objects within the list. Access the 3rd city name and modify it:"
   ]
  },
  {
   "cell_type": "code",
   "execution_count": null,
   "metadata": {},
   "outputs": [],
   "source": [
    "l[[1]][3]"
   ]
  },
  {
   "cell_type": "code",
   "execution_count": null,
   "metadata": {},
   "outputs": [],
   "source": [
    "l[[1]][3] <- \"bratislava\""
   ]
  },
  {
   "cell_type": "markdown",
   "metadata": {},
   "source": [
    "A factor is an object that assigns values to so-called levels (e.g. strings). They are often used to represent categorical data:"
   ]
  },
  {
   "cell_type": "code",
   "execution_count": null,
   "metadata": {},
   "outputs": [],
   "source": [
    "sex <- factor(c(\"male\", \"male\", \"female\", \"male\", \"female\"))\n",
    "print(sex)"
   ]
  },
  {
   "cell_type": "markdown",
   "metadata": {},
   "source": [
    "Some functions require factors as input.\n",
    "#### 4) Statistics\n",
    "Of course you can do statistics in R! Just a short insight:"
   ]
  },
  {
   "cell_type": "code",
   "execution_count": null,
   "metadata": {},
   "outputs": [],
   "source": [
    "mean(c(4,5,6,7))\n",
    "mean(temperatures)"
   ]
  },
  {
   "cell_type": "code",
   "execution_count": null,
   "metadata": {},
   "outputs": [],
   "source": [
    "max(trees)"
   ]
  },
  {
   "cell_type": "markdown",
   "metadata": {},
   "source": [
    "Oops, those aren't even numbers! R returns the alphabetical \"maximum\" instead"
   ]
  },
  {
   "cell_type": "code",
   "execution_count": null,
   "metadata": {},
   "outputs": [],
   "source": [
    "min(new_row, na.rm = T)\n",
    "# This option is necessary. Else, the NA value would be returned"
   ]
  },
  {
   "cell_type": "markdown",
   "metadata": {},
   "source": [
    "There are many useful functions one can discover and we are probably gonna use some more of them later on. Here are some examples:"
   ]
  },
  {
   "cell_type": "code",
   "execution_count": null,
   "metadata": {},
   "outputs": [],
   "source": [
    "mean(mat)\n",
    "sum(mat)\n",
    "colSums(mat)"
   ]
  },
  {
   "cell_type": "code",
   "execution_count": null,
   "metadata": {},
   "outputs": [],
   "source": [
    "summary(mat) # useful function for summary statistics"
   ]
  },
  {
   "cell_type": "code",
   "execution_count": null,
   "metadata": {},
   "outputs": [],
   "source": [
    "range(mat)\n",
    "length(mat) # number of elements in the matrix\n",
    "sd(mat)"
   ]
  },
  {
   "cell_type": "markdown",
   "metadata": {},
   "source": [
    "#### 5) Loading data\n",
    "We can load delimited table data like .csv files. The function is straightforward and works well if your data is well-formatted. On a local R installation, you might want to check your working directory first:"
   ]
  },
  {
   "cell_type": "code",
   "execution_count": null,
   "metadata": {},
   "outputs": [],
   "source": [
    "getwd()\n",
    "# you can change the working directory with setwd().\n",
    "# But it won't be necessary in this bundled environment, as the data is already in a recognized location.\n",
    "# setwd(\"/home/hermanns/Documents/Courses\")"
   ]
  },
  {
   "cell_type": "markdown",
   "metadata": {},
   "source": [
    "Now you can load a test dataset."
   ]
  },
  {
   "cell_type": "code",
   "execution_count": null,
   "metadata": {},
   "outputs": [],
   "source": [
    "loyn <- read.csv(\"loyn_data.csv\", header = T, sep = \",\", dec = \".\")\n",
    "head(loyn)"
   ]
  },
  {
   "cell_type": "markdown",
   "metadata": {},
   "source": [
    "When analyzing data, logical operations can be useful for filtering. E.g. we can query all sites in loyn, which are located at an altitude of 150 m or higher. The first expression generates a logical vector:"
   ]
  },
  {
   "cell_type": "code",
   "execution_count": null,
   "metadata": {},
   "outputs": [],
   "source": [
    "idx <- loyn$ALT >= 150\n",
    "idx"
   ]
  },
  {
   "cell_type": "markdown",
   "metadata": {},
   "source": [
    "We can use this index vector to return those rows from the data frame which fulfill the condition."
   ]
  },
  {
   "cell_type": "code",
   "execution_count": null,
   "metadata": {},
   "outputs": [],
   "source": [
    "loyn150 <- loyn[idx, ]\n",
    "head(loyn150)\n",
    "dim(loyn150) # only 25/56 rows left!"
   ]
  },
  {
   "cell_type": "markdown",
   "metadata": {},
   "source": [
    "#### 6) Exercise\n",
    "Now you can do some coding yourself. Import the \"polis.txt\" dataset which contains some data of lizard occurences on Mexican islands. You can import files with the `read` function. E.g. use `read.delim()` or `read.csv()`. You can use the help function to check the necessary arguments.\n",
    "\n",
    "The predictor variable in this dataset is `PARATIO`, the parameter-to-area ratio of the islands. Now plot the mean PA ratio for those islands, where the species occurs (`P`). And compare with the mean value for the `A` islands (absent). Now exclude the mainland (row 20) from your analysis."
   ]
  },
  {
   "cell_type": "code",
   "execution_count": null,
   "metadata": {},
   "outputs": [],
   "source": []
  }
 ],
 "metadata": {
  "kernelspec": {
   "display_name": "R",
   "language": "R",
   "name": "ir"
  },
  "language_info": {
   "codemirror_mode": "r",
   "file_extension": ".r",
   "mimetype": "text/x-r-source",
   "name": "R",
   "pygments_lexer": "r",
   "version": "3.6.1"
  }
 },
 "nbformat": 4,
 "nbformat_minor": 2
}
